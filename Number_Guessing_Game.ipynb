{
 "cells": [
  {
   "cell_type": "code",
   "execution_count": 2,
   "id": "929815cd",
   "metadata": {},
   "outputs": [
    {
     "name": "stdout",
     "output_type": "stream",
     "text": [
      "Hello, what is your name? hfhg\n",
      "I'm glad to meet you! hfhg \n",
      "Let's play a game with you, I will think  a number between 1 and 10 then you will guess, alright? \n",
      "Don't forget! You have only 3chances so guess:\n",
      "8\n",
      "Your estimate is too high, go down a bit!\n",
      "4\n",
      "Your estimate is too high, go down a bit!\n",
      "6\n",
      "Your estimate is too high, go down a bit!\n",
      "Close but no cigar, you couldn't guess the number. \n",
      "Well, the number was 2.\n"
     ]
    }
   ],
   "source": [
    "import random\n",
    "number = random.randint(1, 10)\n",
    "\n",
    "player_name = input(\"Hello, what is your name? \")\n",
    "number_of_guesses = 0\n",
    "print('I\\'m glad to meet you! {} \\nLet\\'s play a game with you, I will think  a number between 1 and 10 then you will guess, alright? \\nDon\\'t forget! You have only 3chances so guess:'.format(player_name))\n",
    "\n",
    "while number_of_guesses < 3:\n",
    "    guess = int(input())\n",
    "    number_of_guesses += 1\n",
    "    if guess < number:\n",
    "        print('Your estimate is too low, go up a little!')\n",
    "    if guess > number:\n",
    "        print('Your estimate is too high, go down a bit!')\n",
    "    if guess == number:\n",
    "        break\n",
    "if guess == number:\n",
    "    print( 'Congratulations {}, you guessed the number in {} tries!'.format(player_name, number_of_guesses))\n",
    "else:\n",
    "    print('Close but no cigar, you couldn\\'t guess the number. \\nWell, the number was {}.'.format(number))"
   ]
  },
  {
   "cell_type": "code",
   "execution_count": null,
   "id": "c9b69167",
   "metadata": {},
   "outputs": [],
   "source": []
  }
 ],
 "metadata": {
  "kernelspec": {
   "display_name": "Python 3 (ipykernel)",
   "language": "python",
   "name": "python3"
  },
  "language_info": {
   "codemirror_mode": {
    "name": "ipython",
    "version": 3
   },
   "file_extension": ".py",
   "mimetype": "text/x-python",
   "name": "python",
   "nbconvert_exporter": "python",
   "pygments_lexer": "ipython3",
   "version": "3.9.7"
  }
 },
 "nbformat": 4,
 "nbformat_minor": 5
}
