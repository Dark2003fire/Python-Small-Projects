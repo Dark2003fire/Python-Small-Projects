{
 "cells": [
  {
   "cell_type": "code",
   "execution_count": 7,
   "id": "459f3ed9",
   "metadata": {},
   "outputs": [
    {
     "name": "stdout",
     "output_type": "stream",
     "text": [
      "array('i', [1, 2, 3, 4, 5])\n",
      "array('f', [6.099999904632568, 7.199999809265137, 8.300000190734863, 9.399999618530273])\n",
      "array('d', [3.25, 65.6586, 23.001, 2568.0223])\n",
      "array('u', 'abcde')\n",
      "1235045206.0999999046325687.1999998092651378.3000001907348639.3999996185302733.2565.658623.0012568.0223"
     ]
    }
   ],
   "source": [
    "from  array import *\n",
    "\n",
    "array1 = array('i', [1,2,3,4,5])\n",
    "array2 = array('f', [6.1,7.2,8.3,9.4])\n",
    "array3 = array('d', [3.25,65.6586,23.001,2568.022300])\n",
    "array4 = array('u', ['a', 'b', 'c', 'd','e'])\n",
    "for i in  array1, array2, array3 , array4:\n",
    "    print(i)\n",
    "\n",
    "array1.insert(3, 50)\n",
    "\n",
    "    \n",
    "array1.append(20)\n",
    "for i in range(0, len(array1)):\n",
    "    print(array1[i], end=\"\")\n",
    "\n",
    "\n",
    "\n",
    "\n",
    "for j in range(0,len(array2)):\n",
    "    print(array2[j], end=\"\")\n",
    "    \n",
    "for k in range(0, len(array3)):\n",
    "    print(array3[k], end=\"\")\n",
    "\n",
    "\n",
    "\n",
    "    \n",
    "\n",
    " \n",
    "\n",
    "\n"
   ]
  },
  {
   "cell_type": "code",
   "execution_count": null,
   "id": "744482b1",
   "metadata": {},
   "outputs": [],
   "source": []
  }
 ],
 "metadata": {
  "kernelspec": {
   "display_name": "Python 3 (ipykernel)",
   "language": "python",
   "name": "python3"
  },
  "language_info": {
   "codemirror_mode": {
    "name": "ipython",
    "version": 3
   },
   "file_extension": ".py",
   "mimetype": "text/x-python",
   "name": "python",
   "nbconvert_exporter": "python",
   "pygments_lexer": "ipython3",
   "version": "3.9.7"
  }
 },
 "nbformat": 4,
 "nbformat_minor": 5
}
