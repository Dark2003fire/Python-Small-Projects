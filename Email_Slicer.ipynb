{
 "cells": [
  {
   "cell_type": "code",
   "execution_count": 1,
   "id": "13edb88d",
   "metadata": {},
   "outputs": [
    {
     "name": "stdout",
     "output_type": "stream",
     "text": [
      "What is your email address?: hjha03144@gmail.com\n",
      "Your username is 'hjha03144' and your domain name is 'gmail.com'\n"
     ]
    }
   ],
   "source": [
    "# Get user email address\n",
    "email = input(\"What is your email address?: \").strip()\n",
    "\n",
    "# Slice out the user name\n",
    "user_name = email[:email.index(\"@\")]\n",
    "\n",
    "# Slice the domain name\n",
    "domain_name = email[email.index(\"@\")+1:]\n",
    "\n",
    "# Format message\n",
    "output = \"Your username is '{}' and your domain name is '{}'\".format(user_name,domain_name)\n",
    "\n",
    "# Display output message\n",
    "print(output)"
   ]
  },
  {
   "cell_type": "code",
   "execution_count": 2,
   "id": "a4224dc7",
   "metadata": {},
   "outputs": [
    {
     "name": "stdout",
     "output_type": "stream",
     "text": [
      "Enter Your Email: hjha03214@outlook.com\n",
      "Your user name is 'hjha03214' and your domain is 'outlook.com'\n"
     ]
    }
   ],
   "source": [
    "email = input(\"Enter Your Email: \").strip()\n",
    "username = email[:email.index(\"@\")]\n",
    "domain_name = email[email.index(\"@\")+1:]\n",
    "format_ = (f\"Your user name is '{username}' and your domain is '{domain_name}'\")\n",
    "print(format_)"
   ]
  },
  {
   "cell_type": "code",
   "execution_count": 5,
   "id": "549ea730",
   "metadata": {},
   "outputs": [
    {
     "name": "stdout",
     "output_type": "stream",
     "text": [
      "Enter your Email Addresshjha03144@gmail.com\n",
      "user name hjha03144 and gmail.com\n"
     ]
    }
   ],
   "source": [
    "email_address = input(\"Enter your Email Address\").strip()\n",
    "new = email_address.partition(\"@\")\n",
    "print(f\"user name {new[0] } and domain name is  {new[-1]}\")\n",
    "\n"
   ]
  },
  {
   "cell_type": "code",
   "execution_count": 6,
   "id": "5acf235a",
   "metadata": {},
   "outputs": [
    {
     "name": "stdout",
     "output_type": "stream",
     "text": [
      "Enter Your Email: hjha03144@gmail.com\n",
      "Your username is hjha03144 & domain is gmail.com\n"
     ]
    }
   ],
   "source": [
    "\n",
    "def email_slicer(email):\n",
    "    username, _, domain = email.strip().partition(\"@\")\n",
    "    return f\"Your username is {username} & domain is {domain}\"\n",
    "user_input = input(\"Enter Your Email: \")\n",
    "print(email_slicer(user_input))"
   ]
  },
  {
   "cell_type": "code",
   "execution_count": null,
   "id": "2b9dbc9b",
   "metadata": {},
   "outputs": [],
   "source": []
  }
 ],
 "metadata": {
  "kernelspec": {
   "display_name": "Python 3 (ipykernel)",
   "language": "python",
   "name": "python3"
  },
  "language_info": {
   "codemirror_mode": {
    "name": "ipython",
    "version": 3
   },
   "file_extension": ".py",
   "mimetype": "text/x-python",
   "name": "python",
   "nbconvert_exporter": "python",
   "pygments_lexer": "ipython3",
   "version": "3.9.7"
  }
 },
 "nbformat": 4,
 "nbformat_minor": 5
}
